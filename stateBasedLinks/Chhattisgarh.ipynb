{
  "nbformat": 4,
  "nbformat_minor": 0,
  "metadata": {
    "colab": {
      "provenance": [],
      "collapsed_sections": []
    },
    "kernelspec": {
      "name": "python3",
      "display_name": "Python 3"
    },
    "language_info": {
      "name": "python"
    }
  },
  "cells": [
    {
      "cell_type": "code",
      "source": [
        "# Generalized code for generating all PDFs of constituencies\n",
        "\n",
        "base_url = \"https://election.cg.nic.in/voterlist/pdf2023/AC_\"\n",
        "extension = \".pdf\"\n",
        "ac = 90\n",
        "assembly_url = []\n",
        "\n",
        "for i in range(1,ac+1):\n",
        "  if(i<10):\n",
        "    assembly_url.append(base_url+\"00\"+str(i)+\"/S26A\"+str(i)+\"P\")\n",
        "  else:\n",
        "    assembly_url.append(base_url+\"0\"+str(i)+\"/S26A\"+str(i)+\"P\")\n",
        "\n",
        "#for all assembly constituencies there are different number of parts\n",
        "number_of_parts = []\n",
        "\n",
        "all_Chhattisgarh_URLs = []\n",
        "\n",
        "for i in range(0,ac):\n",
        "  for j in range(1,number_of_parts[i]+1):\n",
        "      all_Chhattisgarh_URLs.append(assembly_url[i]+str(j)+extension)\n",
        "\n",
        "len(all_Chhattisgarh_URLs)\n"
      ],
      "metadata": {
        "id": "Lp7frtJnp5-P"
      },
      "execution_count": null,
      "outputs": []
    },
    {
      "cell_type": "code",
      "source": [
        "all_Chhattisgarh_URLs"
      ],
      "metadata": {
        "id": "G25iz44ctFNj"
      },
      "execution_count": null,
      "outputs": []
    },
    {
      "cell_type": "code",
      "source": [],
      "metadata": {
        "id": "jU9Dr8nAtH0f"
      },
      "execution_count": null,
      "outputs": []
    }
  ]
}