{
  "nbformat": 4,
  "nbformat_minor": 0,
  "metadata": {
    "colab": {
      "provenance": [],
      "collapsed_sections": []
    },
    "kernelspec": {
      "name": "python3",
      "display_name": "Python 3"
    },
    "language_info": {
      "name": "python"
    }
  },
  "cells": [
    {
      "cell_type": "code",
      "source": [
        "# Generalized code for generating all PDFs of constituencies\n",
        "\n",
        "extension = \".pdf\"\n",
        "numAc = 119\n",
        "telanganaDict = {1:{1:283,5:301}}\n",
        "\n",
        "#base_url = \"https://ceotserms2.telangana.gov.in/ts_erolls/Popuppage.aspx?partNumber=\"+str(partNo)+\"&roll=EnglishMotherRoll&districtName=DIST_\"+str(zeros)+str(distNo)+\"&acname=AC_\"+str(zeros)+str(acNo)+\"&acnameeng=A\"+acNo+\"&acno=\"+acNo+\"&acnameurdu=\"+str(zeroes)+str(acNo)\n",
        "\n",
        "all_Telangana_URLs = []\n",
        "#change numDistricts to 33\n",
        "numDistricts = 33\n",
        "distZeros = \"\"\n",
        "acZeros = \"\"\n",
        "\n",
        "for districtNo in range(1,numDistricts+1):\n",
        "  for acNo in telanganaDict[districtNo]:\n",
        "     partNo = telanganaDict[districtNo][acNo]\n",
        "     if(districtNo<10):\n",
        "       distZeros = \"0\"\n",
        "     if(acNo<10):\n",
        "       acZeros =\"00\"\n",
        "     elif(acNo<100):\n",
        "        acZeros = \"0\"\n",
        "     base_url = \"https://ceotserms2.telangana.gov.in/ts_erolls/Popuppage.aspx?partNumber=\"+str(partNo)+\"&roll=EnglishMotherRoll&districtName=DIST_\"+str(distZeros)+str(districtNo)+\"&acname=AC_\"+str(acZeros)+str(acNo)+\"&acnameeng=A\"+str(acNo)+\"&acno=\"+str(acNo)+\"&acnameurdu=\"+str(acZeros)+str(acNo)\n",
        "     all_Telangana_URLs.append(base_url)\n",
        "\n",
        "\n",
        "len(all_Telangana_URLs)\n"
      ],
      "metadata": {
        "id": "Lp7frtJnp5-P",
        "colab": {
          "base_uri": "https://localhost:8080/"
        },
        "outputId": "8ffe529d-7631-4291-f207-07714d84a024"
      },
      "execution_count": 10,
      "outputs": [
        {
          "output_type": "execute_result",
          "data": {
            "text/plain": [
              "2"
            ]
          },
          "metadata": {},
          "execution_count": 10
        }
      ]
    },
    {
      "cell_type": "code",
      "source": [
        "all_Telangana_URLs"
      ],
      "metadata": {
        "id": "G25iz44ctFNj",
        "colab": {
          "base_uri": "https://localhost:8080/"
        },
        "outputId": "880f1bd3-306a-46fc-caa9-a3da7e672fbb"
      },
      "execution_count": 11,
      "outputs": [
        {
          "output_type": "execute_result",
          "data": {
            "text/plain": [
              "['https://ceotserms2.telangana.gov.in/ts_erolls/Popuppage.aspx?partNumber=283&roll=EnglishMotherRoll&districtName=DIST_01&acname=AC_001&acnameeng=A1&acno=1&acnameurdu=001',\n",
              " 'https://ceotserms2.telangana.gov.in/ts_erolls/Popuppage.aspx?partNumber=301&roll=EnglishMotherRoll&districtName=DIST_01&acname=AC_005&acnameeng=A5&acno=5&acnameurdu=005']"
            ]
          },
          "metadata": {},
          "execution_count": 11
        }
      ]
    },
    {
      "cell_type": "code",
      "source": [],
      "metadata": {
        "id": "jU9Dr8nAtH0f"
      },
      "execution_count": null,
      "outputs": []
    }
  ]
}