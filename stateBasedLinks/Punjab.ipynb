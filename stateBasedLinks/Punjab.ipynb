{
  "cells": [
    {
      "cell_type": "code",
      "execution_count": null,
      "metadata": {
        "id": "Lp7frtJnp5-P"
      },
      "outputs": [],
      "source": [
        "# Generalized code for generating all PDFs of constituencies\n",
        "\n",
        "base_url = \"https://www.ceopunjab.gov.in/erollpdf2/A\"\n",
        "extension = \".pdf\"\n",
        "ac = 117\n",
        "assembly_url = []\n",
        "\n",
        "#001.pdf\n",
        "for i in range(1,ac+1):\n",
        "  if(i<10):\n",
        "    assembly_url.append(base_url+\"00\"+str(i)+\"/19A00\"+str(i)+\"P\")\n",
        "  elif(i<100):\n",
        "    assembly_url.append(base_url+\"0\"+str(i)+\"/19A0\"+str(i)+\"P\")\n",
        "  elif(i<1000):\n",
        "    assembly_url.append(base_url+str(i)+\"/19A\"+str(i)+\"P\")\n",
        "\n",
        "#for all assembly constituencies there are different number of parts\n",
        "number_of_parts = [188,216,164,207,229,223,201,226,226,241,188,222,210,216,204,209,135,172,169,202,215,235,225,229,234,175,196,195,227,242,252,250,228,183,186,196,218,217]\n",
        "\n",
        "all_Punjab_URLs = []\n",
        "\n",
        "for i in range(0,ac):\n",
        "  for j in range(1,number_of_parts[i]+1):\n",
        "      if(j<10):\n",
        "        all_Punjab_URLs.append(assembly_url[i]+\"00\"+str(j)+extension)\n",
        "      elif(j<100):\n",
        "        all_Punjab_URLs.append(assembly_url[i]+\"0\"+str(j)+extension)\n",
        "      elif(j<1000):\n",
        "        all_Punjab_URLs.append(assembly_url[i]+str(j)+extension)\n",
        "\n",
        "len(all_Punjab_URLs)\n"
      ]
    },
    {
      "cell_type": "code",
      "execution_count": null,
      "metadata": {
        "id": "G25iz44ctFNj"
      },
      "outputs": [],
      "source": [
        "all_Punjab_URLs"
      ]
    },
    {
      "cell_type": "code",
      "execution_count": null,
      "metadata": {
        "id": "jU9Dr8nAtH0f"
      },
      "outputs": [],
      "source": []
    }
  ],
  "metadata": {
    "colab": {
      "collapsed_sections": [],
      "provenance": []
    },
    "kernelspec": {
      "display_name": "Python 3",
      "name": "python3"
    },
    "language_info": {
      "name": "python"
    }
  },
  "nbformat": 4,
  "nbformat_minor": 0
}
