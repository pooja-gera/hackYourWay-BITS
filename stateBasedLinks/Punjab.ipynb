{
  "nbformat": 4,
  "nbformat_minor": 0,
  "metadata": {
    "colab": {
      "provenance": [],
      "collapsed_sections": []
    },
    "kernelspec": {
      "name": "python3",
      "display_name": "Python 3"
    },
    "language_info": {
      "name": "python"
    }
  },
  "cells": [
    {
      "cell_type": "code",
      "source": [
        "# Generalized code for generating all PDFs of constituencies\n",
        "\n",
        "base_url = \"https://www.ceopunjab.gov.in/erollpdf2/A\"\n",
        "extension = \".pdf\"\n",
        "ac = 117\n",
        "assembly_url = []\n",
        "\n",
        "#001.pdf\n",
        "for i in range(1,ac+1):\n",
        "  if(i<10):\n",
        "    assembly_url.append(base_url+\"00\"+str(i)+\"/19A00\"+str(i)+\"P\")\n",
        "  elif(i<100):\n",
        "    assembly_url.append(base_url+\"0\"+str(i)+\"/19A0\"+str(i)+\"P\")\n",
        "  elif(i<1000):\n",
        "    assembly_url.append(base_url+str(i)+\"/19A\"+str(i)+\"P\")\n",
        "\n",
        "#for all assembly constituencies there are different number of parts\n",
        "number_of_parts = []\n",
        "\n",
        "all_Punjab_URLs = []\n",
        "\n",
        "for i in range(0,ac):\n",
        "  for j in range(1,number_of_parts[i]+1):\n",
        "      if(j<10):\n",
        "        all_Punjab_URLs.append(assembly_url[i]+\"00\"+str(j)+extension)\n",
        "      elif(j<100):\n",
        "        all_Punjab_URLs.append(assembly_url[i]+\"0\"+str(j)+extension)\n",
        "      elif(j<1000):\n",
        "        all_Punjab_URLs.append(assembly_url[i]+str(j)+extension)\n",
        "\n",
        "len(all_Punjab_URLs)\n"
      ],
      "metadata": {
        "id": "Lp7frtJnp5-P"
      },
      "execution_count": null,
      "outputs": []
    },
    {
      "cell_type": "code",
      "source": [
        "all_Punjab_URLs"
      ],
      "metadata": {
        "id": "G25iz44ctFNj"
      },
      "execution_count": null,
      "outputs": []
    },
    {
      "cell_type": "code",
      "source": [],
      "metadata": {
        "id": "jU9Dr8nAtH0f"
      },
      "execution_count": null,
      "outputs": []
    }
  ]
}