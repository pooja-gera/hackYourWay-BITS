{
  "nbformat": 4,
  "nbformat_minor": 0,
  "metadata": {
    "colab": {
      "provenance": []
    },
    "kernelspec": {
      "name": "python3",
      "display_name": "Python 3"
    },
    "language_info": {
      "name": "python"
    }
  },
  "cells": [
    {
      "cell_type": "code",
      "source": [
        "# Generalized code for generating all PDFs of constituencies\n",
        "\n",
        "base_url = \"https://ceo.nagaland.gov.in/Downloads/DraftRoll2023/\"\n",
        "extension = \".pdf\"\n",
        "# there are 60 assembly constituencies, making an array of the same \n",
        "assembly_url = []\n",
        "\n",
        "for i in range(1,61):\n",
        "  assembly_url.append(base_url+str(i)+\"/S17A\"+str(i)+\"P\")\n",
        "\n",
        "#for all assembly constituencies there are different number of parts\n",
        "number_of_parts = [41,77,54,121,54,64,63,29,42,28,41,47,33,20,24,37,32,43,38,52,33,26,20,22,25,17,8,30,19,35,]\n",
        "#30 done\n",
        "\n",
        "all_Nagaland_URLs = []\n",
        "\n",
        "for i in range(0,60):\n",
        "  for j in range(1,number_of_parts[i]+1):\n",
        "    all_Nagaland_URLs.append(assembly_url[i]+str(j)+extension)\n",
        "\n",
        "len(all_Nagaland_URLs)\n"
      ],
      "metadata": {
        "id": "Lp7frtJnp5-P"
      },
      "execution_count": null,
      "outputs": []
    },
    {
      "cell_type": "code",
      "source": [
        "all_Nagaland_URLs"
      ],
      "metadata": {
        "id": "G25iz44ctFNj"
      },
      "execution_count": null,
      "outputs": []
    },
    {
      "cell_type": "code",
      "source": [],
      "metadata": {
        "id": "jU9Dr8nAtH0f"
      },
      "execution_count": null,
      "outputs": []
    }
  ]
}