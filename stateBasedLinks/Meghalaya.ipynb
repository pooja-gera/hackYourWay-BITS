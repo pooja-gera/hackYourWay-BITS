{
  "nbformat": 4,
  "nbformat_minor": 0,
  "metadata": {
    "colab": {
      "provenance": [],
      "collapsed_sections": []
    },
    "kernelspec": {
      "name": "python3",
      "display_name": "Python 3"
    },
    "language_info": {
      "name": "python"
    }
  },
  "cells": [
    {
      "cell_type": "code",
      "source": [
        "# Generalized code for generating all PDFs of constituencies\n",
        "\n",
        "base_url = \"https://ceomeghalaya.nic.in/erolls/pdf/english/A0\"\n",
        "extension = \".pdf\"\n",
        "ac = 60\n",
        "assembly_url = []\n",
        "\n",
        "for i in range(1,ac+1):\n",
        "  if(i<10):\n",
        "    assembly_url.append(base_url+str(i)+\"/A00\"+str(i)+\"0\")\n",
        "  else:\n",
        "    assembly_url.append(base_url+str(i)+\"/A0\"+str(i)+\"0\")\n",
        "\n",
        "#for all assembly constituencies there are different number of parts\n",
        "number_of_parts = []\n",
        "\n",
        "all_Meghalaya_URLs = []\n",
        "\n",
        "for i in range(0,ac):\n",
        "  for j in range(1,number_of_parts[i]+1):\n",
        "    if(j<10):\n",
        "      all_Meghalaya_URLs.append(assembly_url[i]+\"00\"+str(j)+extension)\n",
        "    else if(j<100):\n",
        "      all_Meghalaya_URLs.append(assembly_url[i]+\"0\"+str(j)+extension)\n",
        "    else if(j<1000):\n",
        "      all_Meghalaya_URLs.append(assembly_url[i]+str(j)+extension)\n",
        "\n",
        "\n",
        "len(all_Meghalaya_URLs)\n"
      ],
      "metadata": {
        "id": "Lp7frtJnp5-P"
      },
      "execution_count": null,
      "outputs": []
    },
    {
      "cell_type": "code",
      "source": [
        "all_Meghalaya_URLs"
      ],
      "metadata": {
        "id": "G25iz44ctFNj"
      },
      "execution_count": null,
      "outputs": []
    },
    {
      "cell_type": "code",
      "source": [],
      "metadata": {
        "id": "jU9Dr8nAtH0f"
      },
      "execution_count": null,
      "outputs": []
    }
  ]
}